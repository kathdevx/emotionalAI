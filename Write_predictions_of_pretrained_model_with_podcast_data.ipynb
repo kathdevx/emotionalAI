{
  "nbformat": 4,
  "nbformat_minor": 0,
  "metadata": {
    "colab": {
      "name": "Write predictions of pretrained model with podcast data.ipynb",
      "provenance": [],
      "authorship_tag": "ABX9TyNVvfbiuHAIQzk5MBVvPjTJ",
      "include_colab_link": true
    },
    "kernelspec": {
      "name": "python3",
      "display_name": "Python 3"
    },
    "language_info": {
      "name": "python"
    }
  },
  "cells": [
    {
      "cell_type": "markdown",
      "metadata": {
        "id": "view-in-github",
        "colab_type": "text"
      },
      "source": [
        "<a href=\"https://colab.research.google.com/github/kathdevx/emotionalAI/blob/main/Write_predictions_of_pretrained_model_with_podcast_data.ipynb\" target=\"_parent\"><img src=\"https://colab.research.google.com/assets/colab-badge.svg\" alt=\"Open In Colab\"/></a>"
      ]
    },
    {
      "cell_type": "code",
      "source": [
        "!pip install -q transformers"
      ],
      "metadata": {
        "colab": {
          "base_uri": "https://localhost:8080/"
        },
        "id": "G-x7gdc9wUUe",
        "outputId": "b40c1df7-f363-4f80-e3ae-ca41827b2f7a"
      },
      "execution_count": null,
      "outputs": [
        {
          "output_type": "stream",
          "name": "stdout",
          "text": [
            "\u001b[K     |████████████████████████████████| 3.5 MB 7.3 MB/s \n",
            "\u001b[K     |████████████████████████████████| 596 kB 69.0 MB/s \n",
            "\u001b[K     |████████████████████████████████| 6.8 MB 50.9 MB/s \n",
            "\u001b[K     |████████████████████████████████| 895 kB 75.6 MB/s \n",
            "\u001b[K     |████████████████████████████████| 67 kB 5.0 MB/s \n",
            "\u001b[?25h"
          ]
        }
      ]
    },
    {
      "cell_type": "code",
      "execution_count": 75,
      "metadata": {
        "id": "HywqTnn6h8nc"
      },
      "outputs": [],
      "source": [
        "from transformers import pipeline\n",
        "import pickle\n",
        "classifier = pipeline(\"text-classification\",model='bhadresh-savani/distilbert-base-uncased-emotion', return_all_scores=True)"
      ]
    },
    {
      "cell_type": "code",
      "source": [
        "# file path has the form /folder1/folder2/folderX/a.txt\n",
        "# call example: get_file_name_from_path(path,'txt')\n",
        "def get_file_name_from_path(text_file_path, file_extension):\n",
        "    text_file_name_wext = text_file_path.split('/')\n",
        "    ext = '.' + file_extension \n",
        "    text_file_name = text_file_name_wext[-1].split(ext)[0]\n",
        "    return text_file_name"
      ],
      "metadata": {
        "id": "FlZCsJtgVYHX"
      },
      "execution_count": 76,
      "outputs": []
    },
    {
      "cell_type": "markdown",
      "source": [
        "Read data file **X.txt** & write prediction at file **X_with_predictions.pickle**"
      ],
      "metadata": {
        "id": "hyfnlgDvyQtC"
      }
    },
    {
      "cell_type": "code",
      "source": [
        "file_path = '/content/t1_f/t1.txt'\n",
        "with open(file_path,'r') as data_file:\n",
        "    for line in data_file:\n",
        "        data = line.split(\".wav\")\n",
        "        # id = data[0]\n",
        "        # print(data)\n",
        "        prediction = classifier(data[1])\n",
        "        prediction.insert(0,data[0])\n",
        "        new_file_name = get_file_name_from_path(file_path, 'txt') + '_with_predictions.pickle'\n",
        "        with open(new_file_name, 'wb') as fh:\n",
        "            pickle.dump(prediction, fh)"
      ],
      "metadata": {
        "id": "owkb8zB9wwtZ"
      },
      "execution_count": 77,
      "outputs": []
    },
    {
      "cell_type": "markdown",
      "source": [
        "View a sample of a pickle "
      ],
      "metadata": {
        "id": "uNRbLbRZZ-kt"
      }
    },
    {
      "cell_type": "code",
      "source": [
        "# objects = []\n",
        "# with (open(new_file_name, \"rb\")) as openfile:\n",
        "#     while True:\n",
        "#         try:\n",
        "#             objects.append(pickle.load(openfile))\n",
        "#         except EOFError:\n",
        "#             break\n",
        "# print(objects)"
      ],
      "metadata": {
        "id": "-nqgLlx9Zd6f"
      },
      "execution_count": 82,
      "outputs": []
    },
    {
      "cell_type": "code",
      "source": [
        ""
      ],
      "metadata": {
        "id": "p0GxFHogaOA-"
      },
      "execution_count": null,
      "outputs": []
    }
  ]
}