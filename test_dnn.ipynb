{
  "nbformat": 4,
  "nbformat_minor": 0,
  "metadata": {
    "colab": {
      "name": "test_dnn.ipynb",
      "provenance": [],
      "collapsed_sections": [],
      "authorship_tag": "ABX9TyOleCCJ8RPl/hZkLL2x4Xli",
      "include_colab_link": true
    },
    "kernelspec": {
      "name": "python3",
      "display_name": "Python 3"
    }
  },
  "cells": [
    {
      "cell_type": "markdown",
      "metadata": {
        "id": "view-in-github",
        "colab_type": "text"
      },
      "source": [
        "<a href=\"https://colab.research.google.com/github/kathdevx/emotionalAI/blob/main/test_dnn.ipynb\" target=\"_parent\"><img src=\"https://colab.research.google.com/assets/colab-badge.svg\" alt=\"Open In Colab\"/></a>"
      ]
    },
    {
      "cell_type": "code",
      "metadata": {
        "id": "QhpZciivQLzC"
      },
      "source": [
        "!pip install soundfile\n",
        "from google.colab import drive\n",
        "drive.mount('/content/drive')"
      ],
      "execution_count": null,
      "outputs": []
    },
    {
      "cell_type": "code",
      "metadata": {
        "id": "5tpfZF4rOU6J"
      },
      "source": [
        "anger_dir = '/content/drive/Shareddrives/DNN -  audio files/anger/'\n",
        "disgust_dir = '/content/drive/Shareddrives/DNN -  audio files/disgust/'\n",
        "fear_dir = '/content/drive/Shareddrives/DNN -  audio files/fear/'\n",
        "happiness_dir = '/content/drive/Shareddrives/DNN -  audio files/happiness/'\n",
        "sadness_dir = '/content/drive/Shareddrives/DNN -  audio files/sadness/'\n",
        "\n",
        "dirs = [anger_dir, disgust_dir, fear_dir, happiness_dir, sadness_dir]"
      ],
      "execution_count": 20,
      "outputs": []
    },
    {
      "cell_type": "code",
      "metadata": {
        "id": "YZJW1wEuNsAY"
      },
      "source": [
        "import soundfile as sf\n",
        "import glob\n",
        "anger = []\n",
        "disgust = []\n",
        "fear = []\n",
        "happiness = []\n",
        "sadness = []\n",
        "\n",
        "for direc in dirs: \n",
        "    for filename in glob.glob(direc+'*.wav'):\n",
        "        if direc == anger_dir:\n",
        "            f = sf.SoundFile(filename)\n",
        "            anger.append(f)\n",
        "        if direc == disgust_dir:\n",
        "            f = sf.SoundFile(filename)\n",
        "            disgust.append(f)\n",
        "        if direc == fear_dir:\n",
        "            f = sf.SoundFile(filename)\n",
        "            fear.append(f)\n",
        "        if direc == happiness_dir:\n",
        "            f = sf.SoundFile(filename)\n",
        "            happiness.append(f)\n",
        "        if direc == sadness_dir:\n",
        "            try:\n",
        "                f = sf.SoundFile(filename)\n",
        "            except RuntimeError:\n",
        "                continue\n",
        "            sadness.append(f)"
      ],
      "execution_count": 96,
      "outputs": []
    },
    {
      "cell_type": "code",
      "metadata": {
        "id": "RWOiyjBpp2YA"
      },
      "source": [
        "X = anger + disgust + fear + happiness + sadness \n",
        "Y = [1]*len(anger) + [2]*len(disgust) + [3]*len(fear) + [4]*len(happiness) + [5]*len(sadness)"
      ],
      "execution_count": 97,
      "outputs": []
    },
    {
      "cell_type": "code",
      "metadata": {
        "colab": {
          "base_uri": "https://localhost:8080/",
          "height": 282
        },
        "id": "u6XFbOl5OVeQ",
        "outputId": "9b97a54b-e6b1-4865-b3d2-14892759a7e8"
      },
      "source": [
        "import matplotlib.pyplot as plt\n",
        "\n",
        "test1 = happiness[3]\n",
        "\n",
        "plt.plot(test1)"
      ],
      "execution_count": 71,
      "outputs": [
        {
          "output_type": "execute_result",
          "data": {
            "text/plain": [
              "[<matplotlib.lines.Line2D at 0x7fa73d719c50>]"
            ]
          },
          "metadata": {
            "tags": []
          },
          "execution_count": 71
        },
        {
          "output_type": "display_data",
          "data": {
            "image/png": "[encoded data removed]",
            "text/plain": [
              "<Figure size 432x288 with 1 Axes>"
            ]
          },
          "metadata": {
            "tags": [],
            "needs_background": "light"
          }
        }
      ]
    },
    {
      "cell_type": "code",
      "metadata": {
        "colab": {
          "base_uri": "https://localhost:8080/",
          "height": 282
        },
        "id": "bBoImAr3bQHX",
        "outputId": "568c66d9-7626-4747-88b9-04ea7d2e5b59"
      },
      "source": [
        "test2 = sadness[3]\n",
        "\n",
        "plt.plot(test2)"
      ],
      "execution_count": 82,
      "outputs": [
        {
          "output_type": "execute_result",
          "data": {
            "text/plain": [
              "[<matplotlib.lines.Line2D at 0x7fa73d6dbf10>]"
            ]
          },
          "metadata": {
            "tags": []
          },
          "execution_count": 82
        },
        {
          "output_type": "display_data",
          "data": {
            "image/png": "[encoded data removed]",
            "text/plain": [
              "<Figure size 432x288 with 1 Axes>"
            ]
          },
          "metadata": {
            "tags": [],
            "needs_background": "light"
          }
        }
      ]
    },
    {
      "cell_type": "code",
      "metadata": {
        "id": "-tHEhM1OehNW"
      },
      "source": [
        "from keras.models import Model\n",
        "from keras import layers as l\n",
        "\n",
        "def emotionalModel(input_shape):\n",
        "\n",
        "    inputs = l.Input(shape=input_shape)\n",
        "\n",
        "    conv1_10 = l.Conv2D(filters=10, kernel_size=(9,1), activation='relu')(inputs)\n",
        "    conv2_10 = l.Conv2D(filters=10, kernel_size=(2,1), activation='relu')(conv1_10)\n",
        "    conv3_10 = l.Conv2D(filters=10, kernel_size=(3,1), activation='relu')(conv2_10)\n",
        "\n",
        "    pool_1 = l.MaxPool2D(pool_size=(3,1))(conv3_10)\n",
        "    bn_1 = l.BatchNormalization()(pool_1)\n",
        "\n",
        "    conv1_40 = l.Conv2D(filters=40, kernel_size=(3,1), activation='relu')(bn_1)\n",
        "    conv2_40 = l.Conv2D(filters=40, kernel_size=(3,1), activation='relu')(conv1_40)\n",
        "\n",
        "    pool_2 = l.MaxPool2D(pool_size=(2,1))(conv2_40)\n",
        "    bn_2 = l.BatchNormalization()(pool_2)\n",
        "\n",
        "    conv1_80 = l.Conv2D(filters=80, kernel_size=(13,1), activation='relu')(bn_2)\n",
        "    conv2_80 = l.Conv2D(filters=80, kernel_size=(1,1), activation='relu')(conv1_80)\n",
        "\n",
        "    pool_3 = l.MaxPool2D(pool_size=(2,1))(conv2_80)\n",
        "    bn_3 = l.BatchNormalization()(pool_3)\n",
        "\n",
        "    conv3_80 = l.Conv2D(filters=80, kernel_size=(1,1), activation='relu')(bn_3)\n",
        "\n",
        "    dense_1 = l.Dense(80)(conv3_80)\n",
        "    dense_2 = l.Dense(30)(dense_1)\n",
        "\n",
        "    output = l.Dense(4, activation='softmax')(dense_2)\n",
        "\n",
        "    return Model(inputs, output)\n"
      ],
      "execution_count": 92,
      "outputs": []
    },
    {
      "cell_type": "code",
      "metadata": {
        "id": "uYOwYq1huOCc"
      },
      "source": [
        "from sklearn.model_selection import train_test_split\n",
        "X_train, X_test, y_train, y_test = train_test_split(X, Y, test_size=0.33, random_state=42)"
      ],
      "execution_count": 89,
      "outputs": []
    },
    {
      "cell_type": "code",
      "metadata": {
        "id": "MAKh7TTPhJbF"
      },
      "source": [
        "model = emotionalModel((#SPECTROGRAM SHAPE,))\n",
        "model.compile(loss='categorical_crossentropy', optimizer=Adam(), metrics=['accuracy'])\n",
        "model_hist = model.fit(X_train, y_train, epochs=10, verbose=0)\n",
        "y_pred = model.predict(X_test)\n",
        "y_pred = np.argmax(y_pred, axis=1)\n",
        "print(f\"Test accuracy: {accuracy_score(y_test, y_pred)}\")"
      ],
      "execution_count": null,
      "outputs": []
    },
    {
      "cell_type": "code",
      "metadata": {
        "id": "qYL7PwCPuu4K"
      },
      "source": [
        ""
      ],
      "execution_count": null,
      "outputs": []
    }
  ]
}