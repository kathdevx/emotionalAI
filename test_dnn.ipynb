{
  "nbformat": 4,
  "nbformat_minor": 0,
  "metadata": {
    "colab": {
      "name": "test_dnn.ipynb",
      "provenance": [],
      "collapsed_sections": []
    },
    "kernelspec": {
      "name": "python3",
      "display_name": "Python 3"
    }
  },
  "cells": [
    {
      "cell_type": "code",
      "metadata": {
        "id": "vqBV85fSLmdI"
      },
      "source": [
        "import wave\r\n",
        "import numpy as np\r\n",
        "\r\n",
        "# Read file to get buffer                                                                                               \r\n",
        "ifile = wave.open(\"input.wav\")\r\n",
        "samples = ifile.getnframes()\r\n",
        "audio = ifile.readframes(samples)\r\n",
        "\r\n",
        "# Convert buffer to float32 using NumPy                                                                                 \r\n",
        "audio_as_np_int16 = np.frombuffer(audio, dtype=np.int16)\r\n",
        "audio_as_np_float32 = audio_as_np_int16.astype(np.float32)\r\n",
        "\r\n",
        "# Normalise float32 array so that values are between -1.0 and +1.0                                                      \r\n",
        "max_int16 = 2**15\r\n",
        "audio_normalised = audio_as_np_float32 / max_int16"
      ],
      "execution_count": null,
      "outputs": []
    }
  ]
}