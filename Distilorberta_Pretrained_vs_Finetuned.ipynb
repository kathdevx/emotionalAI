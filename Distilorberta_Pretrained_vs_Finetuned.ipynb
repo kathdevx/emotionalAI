{
  "nbformat": 4,
  "nbformat_minor": 0,
  "metadata": {
    "colab": {
      "name": "Distilorberta - Pretrained vs Finetuned.ipynb",
      "provenance": [],
      "collapsed_sections": [],
      "authorship_tag": "ABX9TyMimo0mQMbs21mm2t9azMjY",
      "include_colab_link": true
    },
    "kernelspec": {
      "name": "python3",
      "display_name": "Python 3"
    },
    "language_info": {
      "name": "python"
    }
  },
  "cells": [
    {
      "cell_type": "markdown",
      "metadata": {
        "id": "view-in-github",
        "colab_type": "text"
      },
      "source": [
        "<a href=\"https://colab.research.google.com/github/kathdevx/emotionalAI/blob/main/Distilorberta_Pretrained_vs_Finetuned.ipynb\" target=\"_parent\"><img src=\"https://colab.research.google.com/assets/colab-badge.svg\" alt=\"Open In Colab\"/></a>"
      ]
    },
    {
      "cell_type": "code",
      "execution_count": 1,
      "metadata": {
        "colab": {
          "base_uri": "https://localhost:8080/"
        },
        "id": "Y4cbisorWKYF",
        "outputId": "74b2ab1d-e93f-45f3-a7e0-06d7c3a0b35e"
      },
      "outputs": [
        {
          "output_type": "stream",
          "name": "stdout",
          "text": [
            "Mounted at /content/drive\n"
          ]
        }
      ],
      "source": [
        "from google.colab import drive\n",
        "drive.mount('/content/drive', force_remount=True)"
      ]
    },
    {
      "cell_type": "code",
      "source": [
        "import pickle \n",
        "import pandas as pd\n",
        "import glob\n",
        "import json"
      ],
      "metadata": {
        "id": "piFwXL39XjfD"
      },
      "execution_count": 2,
      "outputs": []
    },
    {
      "cell_type": "code",
      "source": [
        "test_sentences = []\n",
        "for file in glob.glob('/content/drive/MyDrive/Data/test sentences with predictions/*'):\n",
        "    with open(file, 'rb') as infile:\n",
        "        test_sentences.append(pickle.load(infile))"
      ],
      "metadata": {
        "id": "UX43D7xbXl9H"
      },
      "execution_count": 3,
      "outputs": []
    },
    {
      "cell_type": "code",
      "source": [
        "test_pretrained = {\n",
        "    'FileName': [],\n",
        "    'EmoClass':[]\n",
        "}\n",
        "for batch,_ in enumerate(test_sentences):\n",
        "    for input_file,_ in enumerate(test_sentences[batch]):\n",
        "        test_pretrained['FileName'].append(test_sentences[batch][input_file][0])\n",
        "        primary_emotion_score = test_sentences[batch][input_file][1][0]['score']\n",
        "        primary_emotion = test_sentences[batch][input_file][1][0]['label']\n",
        "        for emotions in test_sentences[batch][input_file][1]:\n",
        "            if emotions['score'] > primary_emotion_score:\n",
        "                primary_emotion_score = emotions['score']\n",
        "                primary_emotion = emotions['label']\n",
        "                \n",
        "        test_pretrained['EmoClass'].append(primary_emotion)"
      ],
      "metadata": {
        "id": "1LxOmJ8vZkzs"
      },
      "execution_count": 4,
      "outputs": []
    },
    {
      "cell_type": "code",
      "source": [
        "import pandas as pd\n",
        "import glob\n",
        "path = '/content/drive/MyDrive/Data'\n",
        "\n",
        "\n",
        "fnames = ['Test1', 'Test2']\n",
        "dirnames = ['test sentences']\n",
        "\n",
        "# split_df = None\n",
        "\n",
        "for i, split in enumerate(fnames):\n",
        "\n",
        "  split_csv = pd.read_csv(f'{path}/{fnames[i]}.csv')\n",
        "  split_csv['FileName'] = split_csv['FileName'].str.replace('.wav', '')\n",
        "  split_csv.drop(split_csv.index[split_csv['EmoClass'] == 'X'], inplace = True)\n",
        "  split_csv.drop(split_csv.index[split_csv['EmoClass'] == 'O'], inplace = True)\n",
        "  split_csv.drop(split_csv.index[split_csv['EmoClass'] == 'N'], inplace = True)\n",
        "  split_csv.drop(split_csv.index[split_csv['EmoClass'] == 'D'], inplace = True)\n",
        "  split_csv.drop(split_csv.index[split_csv['EmoClass'] == 'C'], inplace = True)\n",
        "\n",
        "  split_csv = split_csv.reset_index()\n",
        "\n",
        "  split_df = pd.DataFrame(columns=['FileName', 'EmoClass', 'Sentence'])\n",
        "  split_df['FileName'] = split_csv['FileName']\n",
        "  split_df['EmoClass'] = split_csv['EmoClass']\n",
        "  #   split_df['Path'] = split_csv['Path']\n",
        "\n",
        "  split_dir = f'{path}/{dirnames[0]}/*'\n",
        "\n",
        "  total_files = {\n",
        "    'FileName':[],\n",
        "    'Sentence': []\n",
        "  }\n",
        "  for fname in glob.glob(split_dir):\n",
        "    with open(fname, 'r') as infile:\n",
        "      lines = infile.read().splitlines()\n",
        "                          \n",
        "      for i,line in enumerate(lines):\n",
        "        lines[i] = line.replace('.wav', '')\n",
        "        fname, sentence = lines[i].split(' ',1)\n",
        "        total_files['FileName'].append(fname)\n",
        "        total_files['Sentence'].append(sentence)\n",
        "  sent_df = pd.DataFrame.from_dict(total_files)\n",
        "                                                                                      \n",
        "  for i in sent_df.index:\n",
        "    split_df.loc[split_df['FileName'] == sent_df.loc[i, 'FileName'], 'Sentence'] = sent_df.loc[i, 'Sentence']\n",
        "\n",
        "    # missing = split_df[split_df['Sentence'].isnull()]\n",
        "    # missing.to_csv(f'{path}/{split}_missing_sentences.csv', index=False)\n",
        "  split_df = split_df[~split_df['Sentence'].isnull()]\n",
        "  split_df = split_df.drop_duplicates(subset=['FileName'])\n",
        "                                                                                                          \n",
        "  split_df.to_csv(f'{path}/{split}_sentences_for_pretrained_comparison.csv', index=False)\n",
        "  print(f'Final {split} Dataset size: {len(split_df)}')\n",
        "                                                                                                              "
      ],
      "metadata": {
        "id": "QuR8643lYhpq"
      },
      "execution_count": null,
      "outputs": []
    },
    {
      "cell_type": "code",
      "source": [
        "test1 = pd.read_csv('/content/drive/MyDrive/Data/Test1_sentences_for_pretrained_comparison.csv')\n",
        "test1 = test1[['FileName', 'EmoClass']]\n",
        "test2 = pd.read_csv('/content/drive/MyDrive/Data/Test2_sentences_for_pretrained_comparison.csv')\n",
        "test2 = test2[['FileName', 'EmoClass']]\n",
        "\n",
        "pretrained_distilrobeta = pd.DataFrame.from_dict(test_pretrained)"
      ],
      "metadata": {
        "id": "x18jAHlhb_gU"
      },
      "execution_count": 6,
      "outputs": []
    },
    {
      "cell_type": "code",
      "source": [
        "pretrained_distilrobeta.drop(pretrained_distilrobeta.index[pretrained_distilrobeta['EmoClass'] == 'love'], inplace = True)\n",
        "pretrained_distilrobeta = pretrained_distilrobeta.reset_index(drop=True)"
      ],
      "metadata": {
        "id": "pDn8T-sXp-Bh"
      },
      "execution_count": 7,
      "outputs": []
    },
    {
      "cell_type": "code",
      "source": [
        "pretrained_distilrobeta['EmoClass'].unique()"
      ],
      "metadata": {
        "colab": {
          "base_uri": "https://localhost:8080/"
        },
        "id": "N3IVyOHQn0AL",
        "outputId": "dfa914cc-df1c-4f02-8cfe-3a4ffbfa2451"
      },
      "execution_count": null,
      "outputs": [
        {
          "output_type": "execute_result",
          "data": {
            "text/plain": [
              "array(['sadness', 'joy', 'anger', 'fear', 'surprise'], dtype=object)"
            ]
          },
          "metadata": {},
          "execution_count": 127
        }
      ]
    },
    {
      "cell_type": "code",
      "source": [
        "test1['EmoClass'].unique()"
      ],
      "metadata": {
        "colab": {
          "base_uri": "https://localhost:8080/"
        },
        "id": "tPbwp08Upp4z",
        "outputId": "b840774f-596c-4a20-ca44-58f01d672d24"
      },
      "execution_count": null,
      "outputs": [
        {
          "output_type": "execute_result",
          "data": {
            "text/plain": [
              "array(['H', 'U', 'F', 'S', 'A'], dtype=object)"
            ]
          },
          "metadata": {},
          "execution_count": 125
        }
      ]
    },
    {
      "cell_type": "code",
      "source": [
        "emotion_mappings = {\n",
        "    'anger': 'A',\n",
        "    'sadness': 'S',\n",
        "    'joy': 'H',\n",
        "    'surprise': 'U',\n",
        "    'fear': 'F'\n",
        "}"
      ],
      "metadata": {
        "id": "hyzGTcgXnXRr"
      },
      "execution_count": 8,
      "outputs": []
    },
    {
      "cell_type": "code",
      "source": [
        "for old_emotion, new_emotion in emotion_mappings.items():\n",
        "    pretrained_distilrobeta['EmoClass'] = pretrained_distilrobeta['EmoClass'].str.replace(old_emotion, new_emotion)"
      ],
      "metadata": {
        "id": "Gxc_3g4gofJ-"
      },
      "execution_count": 9,
      "outputs": []
    },
    {
      "cell_type": "code",
      "source": [
        "comparison_df = test1.merge(pretrained_distilrobeta,on='FileName',how='inner').dropna()\n",
        "comparison_df = comparison_df.drop_duplicates(subset=['FileName'])"
      ],
      "metadata": {
        "id": "FXEmTnyimZ5q"
      },
      "execution_count": 11,
      "outputs": []
    },
    {
      "cell_type": "code",
      "source": [
        "comparison_df.head()"
      ],
      "metadata": {
        "colab": {
          "base_uri": "https://localhost:8080/",
          "height": 206
        },
        "id": "nxcKodOfpGZo",
        "outputId": "ce7f277f-5801-4f55-96fb-22e0d7089188"
      },
      "execution_count": null,
      "outputs": [
        {
          "output_type": "execute_result",
          "data": {
            "text/html": [
              "\n",
              "  <div id=\"df-a79afcaa-a425-4e4f-b1a7-dd526a08b2df\">\n",
              "    <div class=\"colab-df-container\">\n",
              "      <div>\n",
              "<style scoped>\n",
              "    .dataframe tbody tr th:only-of-type {\n",
              "        vertical-align: middle;\n",
              "    }\n",
              "\n",
              "    .dataframe tbody tr th {\n",
              "        vertical-align: top;\n",
              "    }\n",
              "\n",
              "    .dataframe thead th {\n",
              "        text-align: right;\n",
              "    }\n",
              "</style>\n",
              "<table border=\"1\" class=\"dataframe\">\n",
              "  <thead>\n",
              "    <tr style=\"text-align: right;\">\n",
              "      <th></th>\n",
              "      <th>FileName</th>\n",
              "      <th>EmoClass_x</th>\n",
              "      <th>EmoClass_y</th>\n",
              "    </tr>\n",
              "  </thead>\n",
              "  <tbody>\n",
              "    <tr>\n",
              "      <th>0</th>\n",
              "      <td>MSP-PODCAST_0001_0019</td>\n",
              "      <td>H</td>\n",
              "      <td>A</td>\n",
              "    </tr>\n",
              "    <tr>\n",
              "      <th>1</th>\n",
              "      <td>MSP-PODCAST_0001_0020</td>\n",
              "      <td>H</td>\n",
              "      <td>A</td>\n",
              "    </tr>\n",
              "    <tr>\n",
              "      <th>2</th>\n",
              "      <td>MSP-PODCAST_0001_0025</td>\n",
              "      <td>H</td>\n",
              "      <td>U</td>\n",
              "    </tr>\n",
              "    <tr>\n",
              "      <th>3</th>\n",
              "      <td>MSP-PODCAST_0001_0060</td>\n",
              "      <td>H</td>\n",
              "      <td>H</td>\n",
              "    </tr>\n",
              "    <tr>\n",
              "      <th>4</th>\n",
              "      <td>MSP-PODCAST_0001_0062</td>\n",
              "      <td>H</td>\n",
              "      <td>H</td>\n",
              "    </tr>\n",
              "  </tbody>\n",
              "</table>\n",
              "</div>\n",
              "      <button class=\"colab-df-convert\" onclick=\"convertToInteractive('df-a79afcaa-a425-4e4f-b1a7-dd526a08b2df')\"\n",
              "              title=\"Convert this dataframe to an interactive table.\"\n",
              "              style=\"display:none;\">\n",
              "        \n",
              "  <svg xmlns=\"http://www.w3.org/2000/svg\" height=\"24px\"viewBox=\"0 0 24 24\"\n",
              "       width=\"24px\">\n",
              "    <path d=\"M0 0h24v24H0V0z\" fill=\"none\"/>\n",
              "    <path d=\"M18.56 5.44l.94 2.06.94-2.06 2.06-.94-2.06-.94-.94-2.06-.94 2.06-2.06.94zm-11 1L8.5 8.5l.94-2.06 2.06-.94-2.06-.94L8.5 2.5l-.94 2.06-2.06.94zm10 10l.94 2.06.94-2.06 2.06-.94-2.06-.94-.94-2.06-.94 2.06-2.06.94z\"/><path d=\"M17.41 7.96l-1.37-1.37c-.4-.4-.92-.59-1.43-.59-.52 0-1.04.2-1.43.59L10.3 9.45l-7.72 7.72c-.78.78-.78 2.05 0 2.83L4 21.41c.39.39.9.59 1.41.59.51 0 1.02-.2 1.41-.59l7.78-7.78 2.81-2.81c.8-.78.8-2.07 0-2.86zM5.41 20L4 18.59l7.72-7.72 1.47 1.35L5.41 20z\"/>\n",
              "  </svg>\n",
              "      </button>\n",
              "      \n",
              "  <style>\n",
              "    .colab-df-container {\n",
              "      display:flex;\n",
              "      flex-wrap:wrap;\n",
              "      gap: 12px;\n",
              "    }\n",
              "\n",
              "    .colab-df-convert {\n",
              "      background-color: #E8F0FE;\n",
              "      border: none;\n",
              "      border-radius: 50%;\n",
              "      cursor: pointer;\n",
              "      display: none;\n",
              "      fill: #1967D2;\n",
              "      height: 32px;\n",
              "      padding: 0 0 0 0;\n",
              "      width: 32px;\n",
              "    }\n",
              "\n",
              "    .colab-df-convert:hover {\n",
              "      background-color: #E2EBFA;\n",
              "      box-shadow: 0px 1px 2px rgba(60, 64, 67, 0.3), 0px 1px 3px 1px rgba(60, 64, 67, 0.15);\n",
              "      fill: #174EA6;\n",
              "    }\n",
              "\n",
              "    [theme=dark] .colab-df-convert {\n",
              "      background-color: #3B4455;\n",
              "      fill: #D2E3FC;\n",
              "    }\n",
              "\n",
              "    [theme=dark] .colab-df-convert:hover {\n",
              "      background-color: #434B5C;\n",
              "      box-shadow: 0px 1px 3px 1px rgba(0, 0, 0, 0.15);\n",
              "      filter: drop-shadow(0px 1px 2px rgba(0, 0, 0, 0.3));\n",
              "      fill: #FFFFFF;\n",
              "    }\n",
              "  </style>\n",
              "\n",
              "      <script>\n",
              "        const buttonEl =\n",
              "          document.querySelector('#df-a79afcaa-a425-4e4f-b1a7-dd526a08b2df button.colab-df-convert');\n",
              "        buttonEl.style.display =\n",
              "          google.colab.kernel.accessAllowed ? 'block' : 'none';\n",
              "\n",
              "        async function convertToInteractive(key) {\n",
              "          const element = document.querySelector('#df-a79afcaa-a425-4e4f-b1a7-dd526a08b2df');\n",
              "          const dataTable =\n",
              "            await google.colab.kernel.invokeFunction('convertToInteractive',\n",
              "                                                     [key], {});\n",
              "          if (!dataTable) return;\n",
              "\n",
              "          const docLinkHtml = 'Like what you see? Visit the ' +\n",
              "            '<a target=\"_blank\" href=https://colab.research.google.com/notebooks/data_table.ipynb>data table notebook</a>'\n",
              "            + ' to learn more about interactive tables.';\n",
              "          element.innerHTML = '';\n",
              "          dataTable['output_type'] = 'display_data';\n",
              "          await google.colab.output.renderOutput(dataTable, element);\n",
              "          const docLink = document.createElement('div');\n",
              "          docLink.innerHTML = docLinkHtml;\n",
              "          element.appendChild(docLink);\n",
              "        }\n",
              "      </script>\n",
              "    </div>\n",
              "  </div>\n",
              "  "
            ],
            "text/plain": [
              "                FileName EmoClass_x EmoClass_y\n",
              "0  MSP-PODCAST_0001_0019          H          A\n",
              "1  MSP-PODCAST_0001_0020          H          A\n",
              "2  MSP-PODCAST_0001_0025          H          U\n",
              "3  MSP-PODCAST_0001_0060          H          H\n",
              "4  MSP-PODCAST_0001_0062          H          H"
            ]
          },
          "metadata": {},
          "execution_count": 139
        }
      ]
    },
    {
      "cell_type": "code",
      "source": [
        "from sklearn.metrics import classification_report\n",
        "print(classification_report(comparison_df['EmoClass_x'], comparison_df['EmoClass_y'], target_names=comparison_df['EmoClass_x'].unique(), zero_division=True))"
      ],
      "metadata": {
        "colab": {
          "base_uri": "https://localhost:8080/"
        },
        "id": "yyEgtuF0nOL3",
        "outputId": "149486b2-f26e-4f12-d30d-a1cbd9a1932d"
      },
      "execution_count": 12,
      "outputs": [
        {
          "output_type": "stream",
          "name": "stdout",
          "text": [
            "              precision    recall  f1-score   support\n",
            "\n",
            "           H       0.18      0.63      0.28       286\n",
            "           U       0.20      0.33      0.25        64\n",
            "           F       0.74      0.51      0.60      1527\n",
            "           S       0.28      0.21      0.24       197\n",
            "           A       0.15      0.02      0.04       288\n",
            "\n",
            "    accuracy                           0.43      2362\n",
            "   macro avg       0.31      0.34      0.28      2362\n",
            "weighted avg       0.55      0.43      0.45      2362\n",
            "\n"
          ]
        }
      ]
    },
    {
      "cell_type": "markdown",
      "source": [
        "### No common files with Test2 dataset"
      ],
      "metadata": {
        "id": "8pfFND6UroAU"
      }
    },
    {
      "cell_type": "code",
      "source": [
        "comparison_df2 = test2.merge(pretrained_distilrobeta,on='FileName',how='inner').dropna()"
      ],
      "metadata": {
        "id": "5TfsiPvlrOTK"
      },
      "execution_count": null,
      "outputs": []
    },
    {
      "cell_type": "code",
      "source": [
        "comparison_df2.head()"
      ],
      "metadata": {
        "colab": {
          "base_uri": "https://localhost:8080/",
          "height": 49
        },
        "id": "2PqQx3XdrY-n",
        "outputId": "fcf66bb2-cc0f-40a5-a793-50f7b0111c83"
      },
      "execution_count": null,
      "outputs": [
        {
          "output_type": "execute_result",
          "data": {
            "text/html": [
              "\n",
              "  <div id=\"df-5e763d19-92cc-422c-8bde-936e536098a6\">\n",
              "    <div class=\"colab-df-container\">\n",
              "      <div>\n",
              "<style scoped>\n",
              "    .dataframe tbody tr th:only-of-type {\n",
              "        vertical-align: middle;\n",
              "    }\n",
              "\n",
              "    .dataframe tbody tr th {\n",
              "        vertical-align: top;\n",
              "    }\n",
              "\n",
              "    .dataframe thead th {\n",
              "        text-align: right;\n",
              "    }\n",
              "</style>\n",
              "<table border=\"1\" class=\"dataframe\">\n",
              "  <thead>\n",
              "    <tr style=\"text-align: right;\">\n",
              "      <th></th>\n",
              "      <th>FileName</th>\n",
              "      <th>EmoClass_x</th>\n",
              "      <th>EmoClass_y</th>\n",
              "    </tr>\n",
              "  </thead>\n",
              "  <tbody>\n",
              "  </tbody>\n",
              "</table>\n",
              "</div>\n",
              "      <button class=\"colab-df-convert\" onclick=\"convertToInteractive('df-5e763d19-92cc-422c-8bde-936e536098a6')\"\n",
              "              title=\"Convert this dataframe to an interactive table.\"\n",
              "              style=\"display:none;\">\n",
              "        \n",
              "  <svg xmlns=\"http://www.w3.org/2000/svg\" height=\"24px\"viewBox=\"0 0 24 24\"\n",
              "       width=\"24px\">\n",
              "    <path d=\"M0 0h24v24H0V0z\" fill=\"none\"/>\n",
              "    <path d=\"M18.56 5.44l.94 2.06.94-2.06 2.06-.94-2.06-.94-.94-2.06-.94 2.06-2.06.94zm-11 1L8.5 8.5l.94-2.06 2.06-.94-2.06-.94L8.5 2.5l-.94 2.06-2.06.94zm10 10l.94 2.06.94-2.06 2.06-.94-2.06-.94-.94-2.06-.94 2.06-2.06.94z\"/><path d=\"M17.41 7.96l-1.37-1.37c-.4-.4-.92-.59-1.43-.59-.52 0-1.04.2-1.43.59L10.3 9.45l-7.72 7.72c-.78.78-.78 2.05 0 2.83L4 21.41c.39.39.9.59 1.41.59.51 0 1.02-.2 1.41-.59l7.78-7.78 2.81-2.81c.8-.78.8-2.07 0-2.86zM5.41 20L4 18.59l7.72-7.72 1.47 1.35L5.41 20z\"/>\n",
              "  </svg>\n",
              "      </button>\n",
              "      \n",
              "  <style>\n",
              "    .colab-df-container {\n",
              "      display:flex;\n",
              "      flex-wrap:wrap;\n",
              "      gap: 12px;\n",
              "    }\n",
              "\n",
              "    .colab-df-convert {\n",
              "      background-color: #E8F0FE;\n",
              "      border: none;\n",
              "      border-radius: 50%;\n",
              "      cursor: pointer;\n",
              "      display: none;\n",
              "      fill: #1967D2;\n",
              "      height: 32px;\n",
              "      padding: 0 0 0 0;\n",
              "      width: 32px;\n",
              "    }\n",
              "\n",
              "    .colab-df-convert:hover {\n",
              "      background-color: #E2EBFA;\n",
              "      box-shadow: 0px 1px 2px rgba(60, 64, 67, 0.3), 0px 1px 3px 1px rgba(60, 64, 67, 0.15);\n",
              "      fill: #174EA6;\n",
              "    }\n",
              "\n",
              "    [theme=dark] .colab-df-convert {\n",
              "      background-color: #3B4455;\n",
              "      fill: #D2E3FC;\n",
              "    }\n",
              "\n",
              "    [theme=dark] .colab-df-convert:hover {\n",
              "      background-color: #434B5C;\n",
              "      box-shadow: 0px 1px 3px 1px rgba(0, 0, 0, 0.15);\n",
              "      filter: drop-shadow(0px 1px 2px rgba(0, 0, 0, 0.3));\n",
              "      fill: #FFFFFF;\n",
              "    }\n",
              "  </style>\n",
              "\n",
              "      <script>\n",
              "        const buttonEl =\n",
              "          document.querySelector('#df-5e763d19-92cc-422c-8bde-936e536098a6 button.colab-df-convert');\n",
              "        buttonEl.style.display =\n",
              "          google.colab.kernel.accessAllowed ? 'block' : 'none';\n",
              "\n",
              "        async function convertToInteractive(key) {\n",
              "          const element = document.querySelector('#df-5e763d19-92cc-422c-8bde-936e536098a6');\n",
              "          const dataTable =\n",
              "            await google.colab.kernel.invokeFunction('convertToInteractive',\n",
              "                                                     [key], {});\n",
              "          if (!dataTable) return;\n",
              "\n",
              "          const docLinkHtml = 'Like what you see? Visit the ' +\n",
              "            '<a target=\"_blank\" href=https://colab.research.google.com/notebooks/data_table.ipynb>data table notebook</a>'\n",
              "            + ' to learn more about interactive tables.';\n",
              "          element.innerHTML = '';\n",
              "          dataTable['output_type'] = 'display_data';\n",
              "          await google.colab.output.renderOutput(dataTable, element);\n",
              "          const docLink = document.createElement('div');\n",
              "          docLink.innerHTML = docLinkHtml;\n",
              "          element.appendChild(docLink);\n",
              "        }\n",
              "      </script>\n",
              "    </div>\n",
              "  </div>\n",
              "  "
            ],
            "text/plain": [
              "Empty DataFrame\n",
              "Columns: [FileName, EmoClass_x, EmoClass_y]\n",
              "Index: []"
            ]
          },
          "metadata": {},
          "execution_count": 144
        }
      ]
    }
  ]
}